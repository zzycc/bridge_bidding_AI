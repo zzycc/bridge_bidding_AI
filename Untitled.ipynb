{
 "cells": [
  {
   "cell_type": "code",
   "execution_count": 9,
   "metadata": {},
   "outputs": [
    {
     "name": "stdout",
     "output_type": "stream",
     "text": [
      "[[ 0.4472136  -0.70710678  0.89442719]\n",
      " [ 0.89442719  0.          0.        ]\n",
      " [ 0.          0.70710678 -0.4472136 ]]\n"
     ]
    }
   ],
   "source": [
    "from sklearn import preprocessing\n",
    "\n",
    "X = [[ 1., -1.,  2.],\n",
    "[ 2.,  0.,  0.],\n",
    "[ 0.,  1., -1.]]\n",
    "\n",
    "X_normalized = preprocessing.normalize(X, axis = 0,norm='l2')\n",
    "\n",
    "print(X_normalized)"
   ]
  }
 ],
 "metadata": {
  "kernelspec": {
   "display_name": "Python 3",
   "language": "python",
   "name": "python3"
  },
  "language_info": {
   "codemirror_mode": {
    "name": "ipython",
    "version": 3
   },
   "file_extension": ".py",
   "mimetype": "text/x-python",
   "name": "python",
   "nbconvert_exporter": "python",
   "pygments_lexer": "ipython3",
   "version": "3.5.2"
  }
 },
 "nbformat": 4,
 "nbformat_minor": 2
}
